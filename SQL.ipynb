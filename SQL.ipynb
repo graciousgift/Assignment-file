{
  "nbformat": 4,
  "nbformat_minor": 0,
  "metadata": {
    "colab": {
      "provenance": [],
      "include_colab_link": true
    },
    "kernelspec": {
      "name": "python3",
      "display_name": "Python 3"
    },
    "language_info": {
      "name": "python"
    }
  },
  "cells": [
    {
      "cell_type": "markdown",
      "metadata": {
        "id": "view-in-github",
        "colab_type": "text"
      },
      "source": [
        "<a href=\"https://colab.research.google.com/github/graciousgift/Assignment-file/blob/main/SQL.ipynb\" target=\"_parent\"><img src=\"https://colab.research.google.com/assets/colab-badge.svg\" alt=\"Open In Colab\"/></a>"
      ]
    },
    {
      "cell_type": "markdown",
      "source": [
        "#**WELCOME TO SEQUELITE!**"
      ],
      "metadata": {
        "id": "4qeN2EWS91Xs"
      }
    },
    {
      "cell_type": "code",
      "execution_count": null,
      "metadata": {
        "id": "n8Bw_oqZ9pPp"
      },
      "outputs": [],
      "source": [
        "#import neccessary modules\n",
        "import pandas as pd \n",
        "import sqlite3"
      ]
    },
    {
      "cell_type": "code",
      "source": [
        "#connect to a db\n",
        "cursor = sqlite3.connect('testing.db')  \n",
        "print(\"Opened database successfully\");"
      ],
      "metadata": {
        "colab": {
          "base_uri": "https://localhost:8080/"
        },
        "id": "rDtlVME8JWew",
        "outputId": "d8036b70-5d0a-4940-a14d-31658211b8e9"
      },
      "execution_count": null,
      "outputs": [
        {
          "output_type": "stream",
          "name": "stdout",
          "text": [
            "Opened database successfully\n"
          ]
        }
      ]
    },
    {
      "cell_type": "code",
      "source": [
        "cursor.execute('CREATE TABLE students (first_name TEXT, last_name TEXT, age TEXT, email TEXT, course TEXT, unit TEXT)')\n",
        "print(\"Table created successfully\");\n"
      ],
      "metadata": {
        "colab": {
          "base_uri": "https://localhost:8080/"
        },
        "id": "KxnbGkB9Jvek",
        "outputId": "0885beb8-8cac-4834-e679-7632073aeb1a"
      },
      "execution_count": null,
      "outputs": [
        {
          "output_type": "stream",
          "name": "stdout",
          "text": [
            "Table created successfully\n"
          ]
        }
      ]
    },
    {
      "cell_type": "code",
      "source": [
        "first_name = \"Seun\"\n",
        "last_name = \"Kuti\"\n",
        "age = 35\n",
        "email = \"seun_kuti@yahoo.com\"\n",
        "course = \"Music\"\n",
        "unit = 10"
      ],
      "metadata": {
        "id": "pMAzo-2gaLNZ"
      },
      "execution_count": null,
      "outputs": []
    },
    {
      "cell_type": "code",
      "source": [
        "admin = \"INSERT into students(first_name,last_name,age,email,course,unit) values('{}', '{}', '{}', '{}', '{}', '{}')\".format(first_name,last_name,age,email,course,unit)\n",
        "cursor.execute(admin)\n",
        "cursor.commit()                                                                                                                       "
      ],
      "metadata": {
        "id": "8Nhaz2f0Dh9u"
      },
      "execution_count": null,
      "outputs": []
    },
    {
      "cell_type": "code",
      "source": [
        "stutern = cursor.execute(\"SELECT * FROM students\")"
      ],
      "metadata": {
        "id": "hl7Sk2j6FWeY"
      },
      "execution_count": null,
      "outputs": []
    },
    {
      "cell_type": "code",
      "source": [
        "print(stutern)"
      ],
      "metadata": {
        "id": "3RYEoSLqZkT8"
      },
      "execution_count": null,
      "outputs": []
    },
    {
      "cell_type": "code",
      "source": [
        "for row in stutern:\n",
        "  print(row)"
      ],
      "metadata": {
        "colab": {
          "base_uri": "https://localhost:8080/"
        },
        "id": "D6O5t4rFLce0",
        "outputId": "81cbb4cf-35f0-4b77-eb51-6d28f52c1e3a"
      },
      "execution_count": null,
      "outputs": [
        {
          "output_type": "stream",
          "name": "stdout",
          "text": [
            "('Seun', 'Kuti', '35', 'seun_kuti@yahoo.com', 'Music', '10')\n"
          ]
        }
      ]
    },
    {
      "cell_type": "code",
      "source": [],
      "metadata": {
        "id": "56MQsQvHNR5h"
      },
      "execution_count": null,
      "outputs": []
    }
  ]
}