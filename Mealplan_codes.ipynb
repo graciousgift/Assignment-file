{
 "cells": [
  {
   "cell_type": "code",
   "execution_count": 1,
   "id": "359e47cd-4d38-40ad-b4a3-fc5fab6136cf",
   "metadata": {},
   "outputs": [],
   "source": [
    "import pandas as pd\n",
    "import numpy\n",
    "import datetime\n",
    "import random"
   ]
  },
  {
   "cell_type": "code",
   "execution_count": 2,
   "id": "119faff8-1dd7-46dc-b961-0f4d3633b489",
   "metadata": {},
   "outputs": [],
   "source": [
    "Food_Types = {\n",
    "    #Food type: [Price, weight]\n",
    "    'Grilled Chicken': [2500, 15],\n",
    "    'Kebab': [1800, 8],\n",
    "    'Pasta': [800, 16],\n",
    "    'Pizza': [5000, 31],\n",
    "    'pasta with shrimps': [2300, 12],\n",
    "    'Chicken Salad': [2500, 18],\n",
    "    'Ginger Taco': [500, 8],\n",
    "    'Pancake': [400, 10],\n",
    "    'Grilled Meat': [1800, 14],\n",
    "    'Fried Chicken': [2700, 35],\n",
    "    'Burger large': [3000, 19],\n",
    "    'Vegetable Salad': [1500, 37],\n",
    "    'Jollof Rice': [2500, 39]\n",
    "}\n"
   ]
  },
  {
   "cell_type": "code",
   "execution_count": 34,
   "id": "3fc72e24-bae3-4615-8582-0ed76e89b762",
   "metadata": {},
   "outputs": [],
   "source": [
    "Vendors = {\n",
    "        'Mc Donald',\n",
    "        'Dominos', \n",
    "        'Pizza Hut', \n",
    "        'Asun Only', \n",
    "        'Chef’s Palace', \n",
    "        'Grills’N’Steak',\n",
    "        'Jevinik Restaurant', \n",
    "        'Cilantro',\n",
    "        'Ocean Basket',\n",
    "        'Kokodome', \n",
    "        'Mr biggs',\n",
    "        'chicken Republic' \n",
    "              }"
   ]
  },
  {
   "cell_type": "code",
   "execution_count": 27,
   "id": "9b65345f-13dd-4d61-8682-196c13413539",
   "metadata": {},
   "outputs": [],
   "source": [
    "columns = ['Order_ID', 'Food_Type', 'Vendors','Food_Price', 'Food_Description', 'Ratings']\n",
    "df = pd.DataFrame(columns=columns)"
   ]
  },
  {
   "cell_type": "code",
   "execution_count": 39,
   "id": "ee329577-5eef-418e-a424-07d1f50e69e5",
   "metadata": {},
   "outputs": [],
   "source": [
    "for i in range(1000):\n",
    "        Vendors = random.choices(Vendors)"
   ]
  },
  {
   "cell_type": "code",
   "execution_count": 40,
   "id": "1f1b3883-6284-4feb-9b01-a92da4851513",
   "metadata": {},
   "outputs": [
    {
     "name": "stderr",
     "output_type": "stream",
     "text": [
      "C:\\Users\\KNCV\\anaconda3\\lib\\site-packages\\numpy\\core\\fromnumeric.py:3162: VisibleDeprecationWarning: Creating an ndarray from ragged nested sequences (which is a list-or-tuple of lists-or-tuples-or ndarrays with different lengths or shapes) is deprecated. If you meant to do this, you must specify 'dtype=object' when creating the ndarray.\n",
      "  return asarray(a).ndim\n"
     ]
    }
   ],
   "source": [
    "order_id = 13323\n",
    "\n",
    "for i in range(1000):\n",
    "    foodlist = [Food_Type for Food_Type in Food_Types]\n",
    "    weights = [Food_Types[Food_Type][1] for Food_Type in Food_Types]\n",
    "      \n",
    "    product = random.choices(foodlist, weights=weights)[0]\n",
    "    price = Food_Types[product][0]\n",
    "    df.loc[i] = [order_id, product, Vendors, price, \"NA\", \"NA\"]\n",
    "    order_id += 1\n",
    "df.head()\n",
    "df.to_csv('mealplan_data.csv')"
   ]
  },
  {
   "cell_type": "code",
   "execution_count": null,
   "id": "437266eb-7100-4143-8fc5-1b13dbd87213",
   "metadata": {},
   "outputs": [],
   "source": []
  },
  {
   "cell_type": "code",
   "execution_count": 41,
   "id": "12fce86a-4fd8-4eb6-bb47-fa086d506601",
   "metadata": {},
   "outputs": [
    {
     "data": {
      "text/html": [
       "<div>\n",
       "<style scoped>\n",
       "    .dataframe tbody tr th:only-of-type {\n",
       "        vertical-align: middle;\n",
       "    }\n",
       "\n",
       "    .dataframe tbody tr th {\n",
       "        vertical-align: top;\n",
       "    }\n",
       "\n",
       "    .dataframe thead th {\n",
       "        text-align: right;\n",
       "    }\n",
       "</style>\n",
       "<table border=\"1\" class=\"dataframe\">\n",
       "  <thead>\n",
       "    <tr style=\"text-align: right;\">\n",
       "      <th></th>\n",
       "      <th>Order_ID</th>\n",
       "      <th>Food_Type</th>\n",
       "      <th>Vendors</th>\n",
       "      <th>Food_Price</th>\n",
       "      <th>Food_Description</th>\n",
       "      <th>Ratings</th>\n",
       "    </tr>\n",
       "  </thead>\n",
       "  <tbody>\n",
       "    <tr>\n",
       "      <th>0</th>\n",
       "      <td>13323</td>\n",
       "      <td>Pizza</td>\n",
       "      <td>[Ocean Basket]</td>\n",
       "      <td>5000</td>\n",
       "      <td>NA</td>\n",
       "      <td>NA</td>\n",
       "    </tr>\n",
       "    <tr>\n",
       "      <th>1</th>\n",
       "      <td>13324</td>\n",
       "      <td>Pasta</td>\n",
       "      <td>[Ocean Basket]</td>\n",
       "      <td>800</td>\n",
       "      <td>NA</td>\n",
       "      <td>NA</td>\n",
       "    </tr>\n",
       "    <tr>\n",
       "      <th>2</th>\n",
       "      <td>13325</td>\n",
       "      <td>Fried Chicken</td>\n",
       "      <td>[Ocean Basket]</td>\n",
       "      <td>2700</td>\n",
       "      <td>NA</td>\n",
       "      <td>NA</td>\n",
       "    </tr>\n",
       "    <tr>\n",
       "      <th>3</th>\n",
       "      <td>13326</td>\n",
       "      <td>Grilled Meat</td>\n",
       "      <td>[Ocean Basket]</td>\n",
       "      <td>1800</td>\n",
       "      <td>NA</td>\n",
       "      <td>NA</td>\n",
       "    </tr>\n",
       "    <tr>\n",
       "      <th>4</th>\n",
       "      <td>13327</td>\n",
       "      <td>Grilled Chicken</td>\n",
       "      <td>[Ocean Basket]</td>\n",
       "      <td>2500</td>\n",
       "      <td>NA</td>\n",
       "      <td>NA</td>\n",
       "    </tr>\n",
       "  </tbody>\n",
       "</table>\n",
       "</div>"
      ],
      "text/plain": [
       "   Order_ID        Food_Type         Vendors  Food_Price Food_Description  \\\n",
       "0     13323            Pizza  [Ocean Basket]        5000               NA   \n",
       "1     13324            Pasta  [Ocean Basket]         800               NA   \n",
       "2     13325    Fried Chicken  [Ocean Basket]        2700               NA   \n",
       "3     13326     Grilled Meat  [Ocean Basket]        1800               NA   \n",
       "4     13327  Grilled Chicken  [Ocean Basket]        2500               NA   \n",
       "\n",
       "  Ratings  \n",
       "0      NA  \n",
       "1      NA  \n",
       "2      NA  \n",
       "3      NA  \n",
       "4      NA  "
      ]
     },
     "execution_count": 41,
     "metadata": {},
     "output_type": "execute_result"
    }
   ],
   "source": [
    "df.head()"
   ]
  },
  {
   "cell_type": "code",
   "execution_count": null,
   "id": "37f07c73-f954-46e9-a4dc-f3abc8555333",
   "metadata": {},
   "outputs": [],
   "source": [
    "print(Food_Types)\n",
    "print(weights)"
   ]
  },
  {
   "cell_type": "code",
   "execution_count": 42,
   "id": "bea21d33-9f6e-4efa-bc93-4420a5d047ba",
   "metadata": {},
   "outputs": [
    {
     "data": {
      "text/html": [
       "<div>\n",
       "<style scoped>\n",
       "    .dataframe tbody tr th:only-of-type {\n",
       "        vertical-align: middle;\n",
       "    }\n",
       "\n",
       "    .dataframe tbody tr th {\n",
       "        vertical-align: top;\n",
       "    }\n",
       "\n",
       "    .dataframe thead th {\n",
       "        text-align: right;\n",
       "    }\n",
       "</style>\n",
       "<table border=\"1\" class=\"dataframe\">\n",
       "  <thead>\n",
       "    <tr style=\"text-align: right;\">\n",
       "      <th></th>\n",
       "      <th>Order_ID</th>\n",
       "      <th>Food_Price</th>\n",
       "    </tr>\n",
       "  </thead>\n",
       "  <tbody>\n",
       "    <tr>\n",
       "      <th>count</th>\n",
       "      <td>1000.000000</td>\n",
       "      <td>1000.000000</td>\n",
       "    </tr>\n",
       "    <tr>\n",
       "      <th>mean</th>\n",
       "      <td>13822.500000</td>\n",
       "      <td>2445.400000</td>\n",
       "    </tr>\n",
       "    <tr>\n",
       "      <th>std</th>\n",
       "      <td>288.819436</td>\n",
       "      <td>1196.884026</td>\n",
       "    </tr>\n",
       "    <tr>\n",
       "      <th>min</th>\n",
       "      <td>13323.000000</td>\n",
       "      <td>400.000000</td>\n",
       "    </tr>\n",
       "    <tr>\n",
       "      <th>25%</th>\n",
       "      <td>13572.750000</td>\n",
       "      <td>1500.000000</td>\n",
       "    </tr>\n",
       "    <tr>\n",
       "      <th>50%</th>\n",
       "      <td>13822.500000</td>\n",
       "      <td>2500.000000</td>\n",
       "    </tr>\n",
       "    <tr>\n",
       "      <th>75%</th>\n",
       "      <td>14072.250000</td>\n",
       "      <td>2700.000000</td>\n",
       "    </tr>\n",
       "    <tr>\n",
       "      <th>max</th>\n",
       "      <td>14322.000000</td>\n",
       "      <td>5000.000000</td>\n",
       "    </tr>\n",
       "  </tbody>\n",
       "</table>\n",
       "</div>"
      ],
      "text/plain": [
       "           Order_ID   Food_Price\n",
       "count   1000.000000  1000.000000\n",
       "mean   13822.500000  2445.400000\n",
       "std      288.819436  1196.884026\n",
       "min    13323.000000   400.000000\n",
       "25%    13572.750000  1500.000000\n",
       "50%    13822.500000  2500.000000\n",
       "75%    14072.250000  2700.000000\n",
       "max    14322.000000  5000.000000"
      ]
     },
     "execution_count": 42,
     "metadata": {},
     "output_type": "execute_result"
    }
   ],
   "source": [
    "df.describe()\n"
   ]
  },
  {
   "cell_type": "code",
   "execution_count": null,
   "id": "da1b9888-8422-4c99-9353-faa5bb9bf3ad",
   "metadata": {},
   "outputs": [],
   "source": []
  }
 ],
 "metadata": {
  "kernelspec": {
   "display_name": "Python 3 (ipykernel)",
   "language": "python",
   "name": "python3"
  },
  "language_info": {
   "codemirror_mode": {
    "name": "ipython",
    "version": 3
   },
   "file_extension": ".py",
   "mimetype": "text/x-python",
   "name": "python",
   "nbconvert_exporter": "python",
   "pygments_lexer": "ipython3",
   "version": "3.9.12"
  }
 },
 "nbformat": 4,
 "nbformat_minor": 5
}
